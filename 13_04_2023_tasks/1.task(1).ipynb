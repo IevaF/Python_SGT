{
 "cells": [
  {
   "cell_type": "code",
   "execution_count": 13,
   "id": "71c2d3ab",
   "metadata": {},
   "outputs": [],
   "source": [
    "from bs4 import BeautifulSoup"
   ]
  },
  {
   "cell_type": "code",
   "execution_count": 14,
   "id": "2b0eee2d",
   "metadata": {},
   "outputs": [],
   "source": [
    "import pandas as pd"
   ]
  },
  {
   "cell_type": "code",
   "execution_count": 15,
   "id": "5b7024a0",
   "metadata": {},
   "outputs": [],
   "source": [
    "import requests"
   ]
  },
  {
   "cell_type": "code",
   "execution_count": 16,
   "id": "46876a3d",
   "metadata": {},
   "outputs": [],
   "source": [
    "import csv"
   ]
  },
  {
   "cell_type": "code",
   "execution_count": 17,
   "id": "9a7c8a12",
   "metadata": {},
   "outputs": [],
   "source": [
    "with open(\"List_Wikipedia.htm\",\"r\",encoding=\"utf8\") as f:\n",
    "    html_content = f.read()"
   ]
  },
  {
   "cell_type": "code",
   "execution_count": 18,
   "id": "9f45f444",
   "metadata": {},
   "outputs": [],
   "source": [
    "soup = BeautifulSoup(html_content,\"html.parser\")"
   ]
  },
  {
   "cell_type": "code",
   "execution_count": 19,
   "id": "6e9d5894",
   "metadata": {},
   "outputs": [],
   "source": [
    "table = soup.find(class_=\"sortable wikitable\")"
   ]
  },
  {
   "cell_type": "code",
   "execution_count": 20,
   "id": "40fbd465",
   "metadata": {},
   "outputs": [],
   "source": [
    "rows = table.find_all(\"tr\")"
   ]
  },
  {
   "cell_type": "code",
   "execution_count": 21,
   "id": "9ecc9244",
   "metadata": {},
   "outputs": [],
   "source": [
    "with open('country_info.txt', 'w', encoding='utf-8') as f:\n",
    "    for row in rows[4:]:\n",
    "        columns = row.find_all(\"td\")\n",
    "        country_name = columns[0].text.strip()\n",
    "        \n",
    "        if \"ZZZ\" in country_name:\n",
    "            continue\n",
    "\n",
    "        f.write(f\"{country_name}\\n\")"
   ]
  },
  {
   "cell_type": "code",
   "execution_count": null,
   "id": "71459582",
   "metadata": {},
   "outputs": [],
   "source": [
    "with open('country_text.txt', 'w', encoding='utf-8') as f:\n",
    "    \n",
    "    for row in rows[4:]:\n",
    "        columns = row.find_all(\"td\")\n",
    "        country_name = columns[0].text.strip()\n",
    "        \n",
    "        if \"ZZZ\" in country_name:\n",
    "            continue\n",
    "        \n",
    "    for row in rows[4:]:\n",
    "            columns = row.find_all(\"td\")\n",
    "            if len(columns) >= 2:\n",
    "                country_name = columns[0].text.strip()\n",
    "                link = columns[0].find(\"a\")\n",
    "                if link is not None:\n",
    "                    country_url = \"https://en.wikipedia.org\" + link[\"href\"]\n",
    "                else:\n",
    "                    country_url = \"\"  \n",
    "            country_response = requests.get(country_url)\n",
    "          \n",
    "            country_soup = BeautifulSoup(country_response.content, 'html.parser')\n",
    "         \n",
    "            body = country_soup.find('div', class_='mw-parser-output')\n",
    "            if body:\n",
    "             \n",
    "                f.write(f\"{country_name}\\n{body.text.strip()}\\n\\n\")"
   ]
  },
  {
   "cell_type": "code",
   "execution_count": null,
   "id": "36bc9f7a",
   "metadata": {},
   "outputs": [],
   "source": []
  },
  {
   "cell_type": "code",
   "execution_count": null,
   "id": "eda3a154",
   "metadata": {},
   "outputs": [],
   "source": []
  }
 ],
 "metadata": {
  "kernelspec": {
   "display_name": "Python 3 (ipykernel)",
   "language": "python",
   "name": "python3"
  },
  "language_info": {
   "codemirror_mode": {
    "name": "ipython",
    "version": 3
   },
   "file_extension": ".py",
   "mimetype": "text/x-python",
   "name": "python",
   "nbconvert_exporter": "python",
   "pygments_lexer": "ipython3",
   "version": "3.10.11"
  }
 },
 "nbformat": 4,
 "nbformat_minor": 5
}
